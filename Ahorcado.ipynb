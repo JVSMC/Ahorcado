{
 "cells": [
  {
   "cell_type": "markdown",
   "metadata": {},
   "source": [
    "# Juego del ahorcado\n",
    "## Ejemplo para aprender Python y Git"
   ]
  },
  {
   "cell_type": "code",
   "execution_count": 38,
   "metadata": {},
   "outputs": [
    {
     "name": "stdout",
     "output_type": "stream",
     "text": [
      "---> Ahorcado <---\n",
      "Bienvenido,  Javier \n",
      "Vamos a jugar...\n"
     ]
    }
   ],
   "source": [
    "vidas = 5\n",
    "print ('---> Ahorcado <---')\n",
    "nombre = input('Introduce tu nombre: ')\n",
    "print('Bienvenido, ', nombre , '\\nVamos a jugar...')\n"
   ]
  },
  {
   "cell_type": "code",
   "execution_count": 39,
   "metadata": {},
   "outputs": [],
   "source": [
    "palabra = input('Introduce tu palabra: ')\n",
    "a = len (palabra)  #Número de iteraciones por letra\n",
    "#a"
   ]
  },
  {
   "cell_type": "code",
   "execution_count": 40,
   "metadata": {},
   "outputs": [
    {
     "name": "stdout",
     "output_type": "stream",
     "text": [
      "['-']\n",
      "['-', '-']\n",
      "['-', '-', '-']\n",
      "['-', '-', '-', '-']\n"
     ]
    }
   ],
   "source": [
    "palabra_list = []\n",
    "for i in range(a):\n",
    "    # print(palabra[i]) # Para corroborar la separación de letras\n",
    "    palabra_list.append('-')\n",
    "    print(palabra_list) #Letras de la palabra ya separadas\n",
    "   "
   ]
  },
  {
   "cell_type": "markdown",
   "metadata": {},
   "source": [
    "Realizar busqueda de letras repetidas"
   ]
  },
  {
   "cell_type": "code",
   "execution_count": 49,
   "metadata": {},
   "outputs": [
    {
     "name": "stdout",
     "output_type": "stream",
     "text": [
      "['H', 'o', 'l', 'a']\n"
     ]
    }
   ],
   "source": [
    "\n",
    "letra_buscar = input('Introduce la primer letra a buscar: ')\n",
    "if vidas > 0 :\n",
    "    if letra_buscar not in palabra:\n",
    "        vidas -=1\n",
    "        print(nombre,'te quedan:', vidas,'\\nIntenta de nuevo')\n",
    "    elif letra_buscar in palabra:\n",
    "        c = palabra.find(letra_buscar)\n",
    "        palabra_list[c] = palabra[c]\n",
    "        print(palabra_list)\n",
    "elif vidas <=0:\n",
    "    print('Lo siento pero haz perdido \\nLa palabra es:',palabra)"
   ]
  }
 ],
 "metadata": {
  "kernelspec": {
   "display_name": "Python 3.10.6 64-bit",
   "language": "python",
   "name": "python3"
  },
  "language_info": {
   "codemirror_mode": {
    "name": "ipython",
    "version": 3
   },
   "file_extension": ".py",
   "mimetype": "text/x-python",
   "name": "python",
   "nbconvert_exporter": "python",
   "pygments_lexer": "ipython3",
   "version": "3.10.6"
  },
  "orig_nbformat": 4,
  "vscode": {
   "interpreter": {
    "hash": "cc1072e74d4cdc68fe25dd3beb39b60e55a3831795ef0844279f3434b1de0f9f"
   }
  }
 },
 "nbformat": 4,
 "nbformat_minor": 2
}
